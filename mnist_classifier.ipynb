{
  "nbformat": 4,
  "nbformat_minor": 0,
  "metadata": {
    "jupytext": {
      "split_at_heading": true
    },
    "kernelspec": {
      "display_name": "Python 3",
      "language": "python",
      "name": "python3"
    },
    "colab": {
      "name": "mnist_classifier.ipynb",
      "provenance": [],
      "toc_visible": true
    },
    "accelerator": "GPU"
  },
  "cells": [
    {
      "cell_type": "code",
      "metadata": {
        "id": "y2kCLZPtM1D3",
        "colab_type": "code",
        "colab": {}
      },
      "source": [
        "# Importe das libs\n",
        "from fastai2.vision.all import *\n",
        "from fastai2.basics import *\n",
        "from fastai2.callback.all import *"
      ],
      "execution_count": 0,
      "outputs": []
    },
    {
      "cell_type": "code",
      "metadata": {
        "id": "Eazh-zk5M1D-",
        "colab_type": "code",
        "outputId": "243a93e2-60ba-44a6-90fe-b94907db8721",
        "colab": {
          "base_uri": "https://localhost:8080/",
          "height": 17
        }
      },
      "source": [
        "# Recuperacao da base MNIST completo.\n",
        "path = untar_data(URLs.MNIST)"
      ],
      "execution_count": 2,
      "outputs": [
        {
          "output_type": "display_data",
          "data": {
            "text/html": [
              ""
            ],
            "text/plain": [
              "<IPython.core.display.HTML object>"
            ]
          },
          "metadata": {
            "tags": []
          }
        }
      ]
    },
    {
      "cell_type": "code",
      "metadata": {
        "id": "rI6icrCc4w7_",
        "colab_type": "code",
        "colab": {}
      },
      "source": [
        "#Vetor contendo o path de cada imagem\n",
        "items= get_image_files(path)"
      ],
      "execution_count": 0,
      "outputs": []
    },
    {
      "cell_type": "code",
      "metadata": {
        "id": "67OhRbyG7uL1",
        "colab_type": "code",
        "colab": {}
      },
      "source": [
        "# O metodo GrandparentSplitter divide a base considerando o nome dos diretorios passados como parametro. \n",
        "# Note que informamos os diretorios training e testing, que sao como os nossos dados estao divididos\n",
        "# apos o download do repositorio do fastai\n",
        "splits = GrandparentSplitter(train_name='training', valid_name='testing')\n",
        "# O vetor items, que possuem os caminhos de todas as imagens, é passado como parametro para efetuar a divisao\n",
        "# em dados de treinamento e teste\n",
        "splits = splits(items)"
      ],
      "execution_count": 0,
      "outputs": []
    },
    {
      "cell_type": "code",
      "metadata": {
        "id": "e2jkaxjA-oMk",
        "colab_type": "code",
        "colab": {}
      },
      "source": [
        "# A classe Datasets cria linhas input e output a partir de items. Neste caso, o input é a imagem e o output é classe a qual a imagem pertence (de 0 a 9)  \n",
        "# Note que Datasets, para cada linha, aplica a transformações em tfms (criacao da imagem, rotula a imagem com o seu nome de diretorio e tranformacao de string em id) e\n",
        "# faz essa operacao apenas para os diretorios de split\n",
        "dataset = Datasets(items, tfms=[[PILImageBW.create],[parent_label, Categorize]], splits=splits)"
      ],
      "execution_count": 0,
      "outputs": []
    },
    {
      "cell_type": "code",
      "metadata": {
        "id": "E_6n3oLdAmYy",
        "colab_type": "code",
        "colab": {}
      },
      "source": [
        "# Lista de transformacoes a serem aplciadas no dataloader \n",
        "# RandomCrop - corta a imagem randomicamente (data augmentation) com tamanho 28\n",
        "# ToTensor() - tranforma para tensor\n",
        "# Normalize() - normaliza para cada batch\n",
        "tfms = [ToTensor(), RandomCrop(size=28)]\n",
        "gpu_tfms = [IntToFloatTensor(), Normalize()]"
      ],
      "execution_count": 0,
      "outputs": []
    },
    {
      "cell_type": "code",
      "metadata": {
        "id": "zZa6al3jAvol",
        "colab_type": "code",
        "colab": {}
      },
      "source": [
        "# Cria o dataloader com batch size de 128 e com as transformações especificadas\n",
        "dls = dataset.dataloaders(bs=128, after_item=tfms, after_batch=gpu_tfms)"
      ],
      "execution_count": 0,
      "outputs": []
    },
    {
      "cell_type": "code",
      "metadata": {
        "id": "X58fjtpyEOT1",
        "colab_type": "code",
        "colab": {}
      },
      "source": [
        "# Camada de convolucao\n",
        "def conv2(ni, nf):\n",
        "    return ConvLayer(ni, nf, stride=2)"
      ],
      "execution_count": 0,
      "outputs": []
    },
    {
      "cell_type": "code",
      "metadata": {
        "id": "tArEpj3rnqMD",
        "colab_type": "code",
        "colab": {}
      },
      "source": [
        "# Resnet block\n",
        "class ResBlock(nn.Module):\n",
        "    def __init__(self, nf):\n",
        "        super().__init__()\n",
        "        self.conv1 = ConvLayer(nf,nf)\n",
        "        self.conv2 = ConvLayer(nf,nf)\n",
        "        \n",
        "    def forward(self, x): return x + self.conv2(self.conv1(x))"
      ],
      "execution_count": 0,
      "outputs": []
    },
    {
      "cell_type": "code",
      "metadata": {
        "id": "6akWmGOtGmgk",
        "colab_type": "code",
        "colab": {}
      },
      "source": [
        "# Funcao que realiza uma convolucao e uma passagem pela Resnet \n",
        "def conv_and_res(ni,nf): return nn.Sequential(conv2(ni, nf), ResBlock(nf))"
      ],
      "execution_count": 0,
      "outputs": []
    },
    {
      "cell_type": "code",
      "metadata": {
        "id": "iAHWRLw5GtG9",
        "colab_type": "code",
        "colab": {}
      },
      "source": [
        "# Rede neural \n",
        "net = nn.Sequential(\n",
        "    conv_and_res(1, 8),\n",
        "    conv_and_res(8, 16),\n",
        "    conv_and_res(16, 32),\n",
        "    conv_and_res(32, 16),\n",
        "    conv2(16, 10),\n",
        "    Flatten()\n",
        ")"
      ],
      "execution_count": 0,
      "outputs": []
    },
    {
      "cell_type": "code",
      "metadata": {
        "id": "eP61yE7QGeyQ",
        "colab_type": "code",
        "outputId": "1b509017-2902-4151-d306-386a0047a180",
        "colab": {
          "base_uri": "https://localhost:8080/",
          "height": 297
        }
      },
      "source": [
        "# Realiza treinamento de 8 epocas \n",
        "# Acuracia de 99,4%\n",
        "learn = Learner(dls, net, loss_func=CrossEntropyLossFlat(), metrics=accuracy)\n",
        "learn.fit_one_cycle(8, lr_max=1e-1)"
      ],
      "execution_count": 12,
      "outputs": [
        {
          "output_type": "display_data",
          "data": {
            "text/html": [
              "<table border=\"1\" class=\"dataframe\">\n",
              "  <thead>\n",
              "    <tr style=\"text-align: left;\">\n",
              "      <th>epoch</th>\n",
              "      <th>train_loss</th>\n",
              "      <th>valid_loss</th>\n",
              "      <th>accuracy</th>\n",
              "      <th>time</th>\n",
              "    </tr>\n",
              "  </thead>\n",
              "  <tbody>\n",
              "    <tr>\n",
              "      <td>0</td>\n",
              "      <td>0.128206</td>\n",
              "      <td>0.098212</td>\n",
              "      <td>0.970500</td>\n",
              "      <td>01:01</td>\n",
              "    </tr>\n",
              "    <tr>\n",
              "      <td>1</td>\n",
              "      <td>0.093823</td>\n",
              "      <td>0.719418</td>\n",
              "      <td>0.760800</td>\n",
              "      <td>01:01</td>\n",
              "    </tr>\n",
              "    <tr>\n",
              "      <td>2</td>\n",
              "      <td>0.070811</td>\n",
              "      <td>0.055252</td>\n",
              "      <td>0.984200</td>\n",
              "      <td>01:00</td>\n",
              "    </tr>\n",
              "    <tr>\n",
              "      <td>3</td>\n",
              "      <td>0.065830</td>\n",
              "      <td>0.061681</td>\n",
              "      <td>0.980400</td>\n",
              "      <td>01:01</td>\n",
              "    </tr>\n",
              "    <tr>\n",
              "      <td>4</td>\n",
              "      <td>0.043902</td>\n",
              "      <td>0.037288</td>\n",
              "      <td>0.987300</td>\n",
              "      <td>01:00</td>\n",
              "    </tr>\n",
              "    <tr>\n",
              "      <td>5</td>\n",
              "      <td>0.028922</td>\n",
              "      <td>0.021322</td>\n",
              "      <td>0.993100</td>\n",
              "      <td>01:00</td>\n",
              "    </tr>\n",
              "    <tr>\n",
              "      <td>6</td>\n",
              "      <td>0.016825</td>\n",
              "      <td>0.020185</td>\n",
              "      <td>0.993300</td>\n",
              "      <td>01:00</td>\n",
              "    </tr>\n",
              "    <tr>\n",
              "      <td>7</td>\n",
              "      <td>0.009066</td>\n",
              "      <td>0.016424</td>\n",
              "      <td>0.994300</td>\n",
              "      <td>01:01</td>\n",
              "    </tr>\n",
              "  </tbody>\n",
              "</table>"
            ],
            "text/plain": [
              "<IPython.core.display.HTML object>"
            ]
          },
          "metadata": {
            "tags": []
          }
        }
      ]
    },
    {
      "cell_type": "code",
      "metadata": {
        "id": "_Fmlb9ATCz6F",
        "colab_type": "code",
        "colab": {}
      },
      "source": [
        "# Exporta modelo treinado\n",
        "learn.export()"
      ],
      "execution_count": 0,
      "outputs": []
    }
  ]
}